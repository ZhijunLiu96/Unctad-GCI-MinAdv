{
  "nbformat": 4,
  "nbformat_minor": 0,
  "metadata": {
    "colab": {
      "name": "downloadToDrive.ipynb",
      "provenance": []
    },
    "kernelspec": {
      "name": "python3",
      "display_name": "Python 3"
    }
  },
  "cells": [
    {
      "cell_type": "code",
      "metadata": {
        "id": "h8_qqyvAUP_K",
        "colab_type": "code",
        "colab": {
          "base_uri": "https://localhost:8080/",
          "height": 122
        },
        "outputId": "3677f1c7-ca9a-437a-a5c1-734e06d66b89"
      },
      "source": [
        "from google.colab import drive\n",
        "drive.mount('/content/drive/')"
      ],
      "execution_count": null,
      "outputs": [
        {
          "output_type": "stream",
          "text": [
            "Go to this URL in a browser: https://accounts.google.com/o/oauth2/auth?client_id=947318989803-6bn6qk8qdgf4n4g3pfee6491hc0brc4i.apps.googleusercontent.com&redirect_uri=urn%3aietf%3awg%3aoauth%3a2.0%3aoob&scope=email%20https%3a%2f%2fwww.googleapis.com%2fauth%2fdocs.test%20https%3a%2f%2fwww.googleapis.com%2fauth%2fdrive%20https%3a%2f%2fwww.googleapis.com%2fauth%2fdrive.photos.readonly%20https%3a%2f%2fwww.googleapis.com%2fauth%2fpeopleapi.readonly&response_type=code\n",
            "\n",
            "Enter your authorization code:\n",
            "··········\n",
            "Mounted at /content/drive/\n"
          ],
          "name": "stdout"
        }
      ]
    },
    {
      "cell_type": "code",
      "metadata": {
        "id": "4OlyKUMaUV23",
        "colab_type": "code",
        "colab": {
          "base_uri": "https://localhost:8080/",
          "height": 34
        },
        "outputId": "ab76f5ce-f0b3-4432-bcda-3c202b61877d"
      },
      "source": [
        "cd 'drive/My Drive/pdf'"
      ],
      "execution_count": null,
      "outputs": [
        {
          "output_type": "stream",
          "text": [
            "/content/drive/.shortcut-targets-by-id/1m0db_NkRBRclQWOQ1PvNfeYCYyqMdp9j/pdf\n"
          ],
          "name": "stdout"
        }
      ]
    },
    {
      "cell_type": "markdown",
      "metadata": {
        "id": "QfuFC_BeOgLF",
        "colab_type": "text"
      },
      "source": [
        "# download"
      ]
    },
    {
      "cell_type": "code",
      "metadata": {
        "id": "8Yi-V9MCUs93",
        "colab_type": "code",
        "colab": {}
      },
      "source": [
        "import ast\n",
        "import requests\n",
        "import pandas as pd"
      ],
      "execution_count": null,
      "outputs": []
    },
    {
      "cell_type": "code",
      "metadata": {
        "id": "hVt-BYZ3Ukkn",
        "colab_type": "code",
        "colab": {}
      },
      "source": [
        "def download(url):\n",
        "    r = requests.get(url, stream=True)\n",
        "    name = url[50:-36]\n",
        "    path = 'data/'+name\n",
        "    with open(path, 'wb') as f:\n",
        "        f.write(r.content)"
      ],
      "execution_count": null,
      "outputs": []
    },
    {
      "cell_type": "code",
      "metadata": {
        "id": "PPk7zCsHUoWZ",
        "colab_type": "code",
        "colab": {}
      },
      "source": [
        "data = pd.read_csv('download.csv')\n",
        "urls_all = list(data['download'])\n",
        "for i in range(len(urls_all)):\n",
        "    urls = ast.literal_eval(urls_all[i])\n",
        "    for url in urls:\n",
        "        try:\n",
        "            download(url)\n",
        "        except: print('error')\n",
        "    print(i+1)"
      ],
      "execution_count": null,
      "outputs": []
    },
    {
      "cell_type": "code",
      "metadata": {
        "id": "Ew0ygwlQE8af",
        "colab_type": "code",
        "colab": {}
      },
      "source": [
        ""
      ],
      "execution_count": null,
      "outputs": []
    }
  ]
}